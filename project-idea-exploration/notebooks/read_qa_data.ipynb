{
 "cells": [
  {
   "cell_type": "code",
   "execution_count": 1,
   "id": "d00e5f2f",
   "metadata": {},
   "outputs": [],
   "source": [
    "import json\n",
    "import logging\n",
    "import os\n",
    "import pandas as pd"
   ]
  },
  {
   "cell_type": "code",
   "execution_count": 8,
   "id": "e94316c5",
   "metadata": {},
   "outputs": [
    {
     "data": {
      "text/html": [
       "<div>\n",
       "<style scoped>\n",
       "    .dataframe tbody tr th:only-of-type {\n",
       "        vertical-align: middle;\n",
       "    }\n",
       "\n",
       "    .dataframe tbody tr th {\n",
       "        vertical-align: top;\n",
       "    }\n",
       "\n",
       "    .dataframe thead th {\n",
       "        text-align: right;\n",
       "    }\n",
       "</style>\n",
       "<table border=\"1\" class=\"dataframe\">\n",
       "  <thead>\n",
       "    <tr style=\"text-align: right;\">\n",
       "      <th></th>\n",
       "      <th>questionType</th>\n",
       "      <th>asin</th>\n",
       "      <th>answerTime</th>\n",
       "      <th>unixTime</th>\n",
       "      <th>question</th>\n",
       "      <th>answerType</th>\n",
       "      <th>answer</th>\n",
       "    </tr>\n",
       "  </thead>\n",
       "  <tbody>\n",
       "    <tr>\n",
       "      <th>0</th>\n",
       "      <td>yes/no</td>\n",
       "      <td>B00004U9JP</td>\n",
       "      <td>Jun 27, 2014</td>\n",
       "      <td>1.403852e+09</td>\n",
       "      <td>I have a 9 year old Badger 1 that needs replac...</td>\n",
       "      <td>?</td>\n",
       "      <td>I replaced my old one with this without a hitch.</td>\n",
       "    </tr>\n",
       "    <tr>\n",
       "      <th>1</th>\n",
       "      <td>open-ended</td>\n",
       "      <td>B00004U9JP</td>\n",
       "      <td>Apr 28, 2014</td>\n",
       "      <td>1.398668e+09</td>\n",
       "      <td>model number</td>\n",
       "      <td>NaN</td>\n",
       "      <td>This may help InSinkErator Model BADGER-1: Bad...</td>\n",
       "    </tr>\n",
       "    <tr>\n",
       "      <th>2</th>\n",
       "      <td>yes/no</td>\n",
       "      <td>B00004U9JP</td>\n",
       "      <td>Aug 25, 2014</td>\n",
       "      <td>1.408950e+09</td>\n",
       "      <td>can I replace Badger 1 1/3 with a Badger 5 1/2...</td>\n",
       "      <td>?</td>\n",
       "      <td>Plumbing connections will vary with different ...</td>\n",
       "    </tr>\n",
       "    <tr>\n",
       "      <th>3</th>\n",
       "      <td>yes/no</td>\n",
       "      <td>B00004U9JP</td>\n",
       "      <td>Nov 3, 2014</td>\n",
       "      <td>1.415002e+09</td>\n",
       "      <td>Does this come with power cord and dishwasher ...</td>\n",
       "      <td>?</td>\n",
       "      <td>It does not come with a power cord. It does co...</td>\n",
       "    </tr>\n",
       "    <tr>\n",
       "      <th>4</th>\n",
       "      <td>open-ended</td>\n",
       "      <td>B00004U9JP</td>\n",
       "      <td>Jun 21, 2014</td>\n",
       "      <td>1.403334e+09</td>\n",
       "      <td>loud noise inside when turned on. sounds like ...</td>\n",
       "      <td>NaN</td>\n",
       "      <td>Check if you dropped something inside.Usually ...</td>\n",
       "    </tr>\n",
       "  </tbody>\n",
       "</table>\n",
       "</div>"
      ],
      "text/plain": [
       "  questionType        asin    answerTime      unixTime  \\\n",
       "0       yes/no  B00004U9JP  Jun 27, 2014  1.403852e+09   \n",
       "1   open-ended  B00004U9JP  Apr 28, 2014  1.398668e+09   \n",
       "2       yes/no  B00004U9JP  Aug 25, 2014  1.408950e+09   \n",
       "3       yes/no  B00004U9JP   Nov 3, 2014  1.415002e+09   \n",
       "4   open-ended  B00004U9JP  Jun 21, 2014  1.403334e+09   \n",
       "\n",
       "                                            question answerType  \\\n",
       "0  I have a 9 year old Badger 1 that needs replac...          ?   \n",
       "1                                       model number        NaN   \n",
       "2  can I replace Badger 1 1/3 with a Badger 5 1/2...          ?   \n",
       "3  Does this come with power cord and dishwasher ...          ?   \n",
       "4  loud noise inside when turned on. sounds like ...        NaN   \n",
       "\n",
       "                                              answer  \n",
       "0   I replaced my old one with this without a hitch.  \n",
       "1  This may help InSinkErator Model BADGER-1: Bad...  \n",
       "2  Plumbing connections will vary with different ...  \n",
       "3  It does not come with a power cord. It does co...  \n",
       "4  Check if you dropped something inside.Usually ...  "
      ]
     },
     "execution_count": 8,
     "metadata": {},
     "output_type": "execute_result"
    }
   ],
   "source": [
    "\n",
    "# Define the path to the JSON file and log file\n",
    "json_file_path = '../data/qa_Appliances.json'\n",
    "log_dir = '../logs'\n",
    "log_file_path = os.path.join(log_dir, 'line_skipped.log')\n",
    "\n",
    "# Create the log directory if it doesn't exist\n",
    "os.makedirs(log_dir, exist_ok=True)\n",
    "\n",
    "# Set up the logger\n",
    "logging.basicConfig(filename=log_file_path, level=logging.ERROR, \n",
    "                    format='%(asctime)s %(levelname)s:%(message)s')\n",
    "\n",
    "# Initialize an empty list to store the valid JSON objects\n",
    "data = []\n",
    "line_count = 0\n",
    "\n",
    "# Read the JSON file line by line\n",
    "with open(json_file_path, 'r') as file:\n",
    "    for line in file:\n",
    "        line_count += 1\n",
    "        line = line.strip()\n",
    "        \n",
    "        # Replace single quotes with double quotes\n",
    "        line = line.replace(\"'\", '\"')\n",
    "        \n",
    "        # Attempt to parse the JSON line\n",
    "        try:\n",
    "            # Correct any potential issues with trailing commas\n",
    "            if line[-1] == ',':\n",
    "                line = line[:-1]\n",
    "            \n",
    "            data.append(json.loads(line))\n",
    "        except json.JSONDecodeError as e:\n",
    "            logging.error(f\"Error decoding JSON on line: {line}\")\n",
    "            logging.error(e)\n",
    "\n",
    "# Convert the list of valid JSON dictionaries to a DataFrame\n",
    "df = pd.DataFrame(data)\n",
    "\n",
    "# Display the DataFrame\n",
    "df.head()  # Show the first few rows of the DataFrame\n"
   ]
  },
  {
   "cell_type": "code",
   "execution_count": 9,
   "id": "5441d8e2",
   "metadata": {},
   "outputs": [
    {
     "data": {
      "text/plain": [
       "questionType    5318\n",
       "asin            5318\n",
       "answerTime      5318\n",
       "unixTime        5048\n",
       "question        5318\n",
       "answerType      2961\n",
       "answer          5318\n",
       "dtype: int64"
      ]
     },
     "execution_count": 9,
     "metadata": {},
     "output_type": "execute_result"
    }
   ],
   "source": [
    "df.count()"
   ]
  },
  {
   "cell_type": "code",
   "execution_count": 10,
   "id": "2338e440",
   "metadata": {},
   "outputs": [
    {
     "data": {
      "text/plain": [
       "9011"
      ]
     },
     "execution_count": 10,
     "metadata": {},
     "output_type": "execute_result"
    }
   ],
   "source": [
    "line_count"
   ]
  },
  {
   "cell_type": "code",
   "execution_count": null,
   "id": "6611e69f",
   "metadata": {},
   "outputs": [],
   "source": []
  }
 ],
 "metadata": {
  "kernelspec": {
   "display_name": "Python 3 (ipykernel)",
   "language": "python",
   "name": "python3"
  },
  "language_info": {
   "codemirror_mode": {
    "name": "ipython",
    "version": 3
   },
   "file_extension": ".py",
   "mimetype": "text/x-python",
   "name": "python",
   "nbconvert_exporter": "python",
   "pygments_lexer": "ipython3",
   "version": "3.11.5"
  }
 },
 "nbformat": 4,
 "nbformat_minor": 5
}
