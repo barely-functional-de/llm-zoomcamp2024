{
 "cells": [
  {
   "cell_type": "code",
   "execution_count": 8,
   "id": "7d13d22c-5105-4310-99e1-472e4744fb9a",
   "metadata": {},
   "outputs": [],
   "source": [
    "from openai import OpenAI\n",
    "\n",
    "client = OpenAI(\n",
    "    base_url='http://localhost:11434/v1/',\n",
    "    api_key='ollama',\n",
    ")"
   ]
  },
  {
   "cell_type": "code",
   "execution_count": 23,
   "id": "fcb8c61b-81fc-4c6b-a6c4-139968a5f63f",
   "metadata": {},
   "outputs": [],
   "source": [
    "def llm(prompt):\n",
    "    response = client.chat.completions.create(\n",
    "        model='gemma:2b',\n",
    "        temperature=0.0,\n",
    "        messages=[{\"role\": \"user\", \"content\": prompt}]\n",
    "    )\n",
    "    \n",
    "    return response.choices[0].message.content, response.usage"
   ]
  },
  {
   "cell_type": "code",
   "execution_count": 11,
   "id": "30902566-ca11-4489-a603-a6012d72b5c3",
   "metadata": {},
   "outputs": [],
   "source": [
    "prompt = \"What's the formula for energy?\""
   ]
  },
  {
   "cell_type": "code",
   "execution_count": 24,
   "id": "eefba31d-7e8d-47a4-a42e-9e9e8f7d6e37",
   "metadata": {},
   "outputs": [],
   "source": [
    "content, usage = llm(prompt)"
   ]
  },
  {
   "cell_type": "markdown",
   "id": "cd5e7b0d-25c3-4fb5-9eca-14e42d751a8d",
   "metadata": {},
   "source": [
    "### Question 6. Serving the LLM. Number of output tokens "
   ]
  },
  {
   "cell_type": "code",
   "execution_count": 25,
   "id": "a81fb1f7-cb1c-42e5-ad60-c2ce53171c99",
   "metadata": {},
   "outputs": [
    {
     "data": {
      "text/plain": [
       "CompletionUsage(completion_tokens=281, prompt_tokens=34, total_tokens=315)"
      ]
     },
     "execution_count": 25,
     "metadata": {},
     "output_type": "execute_result"
    }
   ],
   "source": [
    "usage"
   ]
  },
  {
   "cell_type": "code",
   "execution_count": null,
   "id": "bbb0d1e1-8d41-4576-b772-491b1e4b5c09",
   "metadata": {},
   "outputs": [],
   "source": []
  }
 ],
 "metadata": {
  "kernelspec": {
   "display_name": "Python 3 (ipykernel)",
   "language": "python",
   "name": "python3"
  },
  "language_info": {
   "codemirror_mode": {
    "name": "ipython",
    "version": 3
   },
   "file_extension": ".py",
   "mimetype": "text/x-python",
   "name": "python",
   "nbconvert_exporter": "python",
   "pygments_lexer": "ipython3",
   "version": "3.10.14"
  }
 },
 "nbformat": 4,
 "nbformat_minor": 5
}
