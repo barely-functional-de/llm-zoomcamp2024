{
 "cells": [
  {
   "cell_type": "markdown",
   "id": "50469666-5177-4e2f-9b5c-a8fa74e76da6",
   "metadata": {},
   "source": [
    "# Homework: Evaluation and Monitoring\n",
    "### In this homework, we'll evaluate the quality of our RAG system."
   ]
  },
  {
   "cell_type": "markdown",
   "id": "2c8a98b6-7652-4328-8c59-b7925a4e2f2e",
   "metadata": {},
   "source": [
    "### Getting the data\n",
    "#### Let's start by getting the dataset. We will use the data we generated in the module.\n",
    "\n",
    "#### In particular, we'll evaluate the quality of our RAG system with gpt-4o-mini"
   ]
  },
  {
   "cell_type": "code",
   "execution_count": 1,
   "id": "4730bc5c-c78a-45cc-bdc8-ac0aa4ba284b",
   "metadata": {},
   "outputs": [],
   "source": [
    "import pandas as pd"
   ]
  },
  {
   "cell_type": "code",
   "execution_count": 2,
   "id": "fe667ede-a8e3-421e-a161-7e375d58c6f5",
   "metadata": {},
   "outputs": [],
   "source": [
    "github_url = 'https://github.com/DataTalksClub/llm-zoomcamp/blob/main/04-monitoring/data/results-gpt4o-mini.csv'\n",
    "\n",
    "url = f'{github_url}?raw=1'\n",
    "df = pd.read_csv(url)"
   ]
  },
  {
   "cell_type": "code",
   "execution_count": 3,
   "id": "1e318aba-bef3-4f48-8ee4-f8238b707a6e",
   "metadata": {},
   "outputs": [],
   "source": [
    "df = df.iloc[:300]"
   ]
  },
  {
   "cell_type": "code",
   "execution_count": 4,
   "id": "58a209f3-346c-4f80-b084-ce7a5112f316",
   "metadata": {},
   "outputs": [
    {
     "data": {
      "text/html": [
       "<div>\n",
       "<style scoped>\n",
       "    .dataframe tbody tr th:only-of-type {\n",
       "        vertical-align: middle;\n",
       "    }\n",
       "\n",
       "    .dataframe tbody tr th {\n",
       "        vertical-align: top;\n",
       "    }\n",
       "\n",
       "    .dataframe thead th {\n",
       "        text-align: right;\n",
       "    }\n",
       "</style>\n",
       "<table border=\"1\" class=\"dataframe\">\n",
       "  <thead>\n",
       "    <tr style=\"text-align: right;\">\n",
       "      <th></th>\n",
       "      <th>answer_llm</th>\n",
       "      <th>answer_orig</th>\n",
       "      <th>document</th>\n",
       "      <th>question</th>\n",
       "      <th>course</th>\n",
       "    </tr>\n",
       "  </thead>\n",
       "  <tbody>\n",
       "    <tr>\n",
       "      <th>0</th>\n",
       "      <td>You can sign up for the course by visiting the...</td>\n",
       "      <td>Machine Learning Zoomcamp FAQ\\nThe purpose of ...</td>\n",
       "      <td>0227b872</td>\n",
       "      <td>Where can I sign up for the course?</td>\n",
       "      <td>machine-learning-zoomcamp</td>\n",
       "    </tr>\n",
       "    <tr>\n",
       "      <th>1</th>\n",
       "      <td>You can sign up using the link provided in the...</td>\n",
       "      <td>Machine Learning Zoomcamp FAQ\\nThe purpose of ...</td>\n",
       "      <td>0227b872</td>\n",
       "      <td>Can you provide a link to sign up?</td>\n",
       "      <td>machine-learning-zoomcamp</td>\n",
       "    </tr>\n",
       "    <tr>\n",
       "      <th>2</th>\n",
       "      <td>Yes, there is an FAQ for the Machine Learning ...</td>\n",
       "      <td>Machine Learning Zoomcamp FAQ\\nThe purpose of ...</td>\n",
       "      <td>0227b872</td>\n",
       "      <td>Is there an FAQ for this Machine Learning course?</td>\n",
       "      <td>machine-learning-zoomcamp</td>\n",
       "    </tr>\n",
       "    <tr>\n",
       "      <th>3</th>\n",
       "      <td>The context does not provide any specific info...</td>\n",
       "      <td>Machine Learning Zoomcamp FAQ\\nThe purpose of ...</td>\n",
       "      <td>0227b872</td>\n",
       "      <td>Does this course have a GitHub repository for ...</td>\n",
       "      <td>machine-learning-zoomcamp</td>\n",
       "    </tr>\n",
       "    <tr>\n",
       "      <th>4</th>\n",
       "      <td>To structure your questions and answers for th...</td>\n",
       "      <td>Machine Learning Zoomcamp FAQ\\nThe purpose of ...</td>\n",
       "      <td>0227b872</td>\n",
       "      <td>How can I structure my questions and answers f...</td>\n",
       "      <td>machine-learning-zoomcamp</td>\n",
       "    </tr>\n",
       "  </tbody>\n",
       "</table>\n",
       "</div>"
      ],
      "text/plain": [
       "                                          answer_llm  \\\n",
       "0  You can sign up for the course by visiting the...   \n",
       "1  You can sign up using the link provided in the...   \n",
       "2  Yes, there is an FAQ for the Machine Learning ...   \n",
       "3  The context does not provide any specific info...   \n",
       "4  To structure your questions and answers for th...   \n",
       "\n",
       "                                         answer_orig  document  \\\n",
       "0  Machine Learning Zoomcamp FAQ\\nThe purpose of ...  0227b872   \n",
       "1  Machine Learning Zoomcamp FAQ\\nThe purpose of ...  0227b872   \n",
       "2  Machine Learning Zoomcamp FAQ\\nThe purpose of ...  0227b872   \n",
       "3  Machine Learning Zoomcamp FAQ\\nThe purpose of ...  0227b872   \n",
       "4  Machine Learning Zoomcamp FAQ\\nThe purpose of ...  0227b872   \n",
       "\n",
       "                                            question  \\\n",
       "0                Where can I sign up for the course?   \n",
       "1                 Can you provide a link to sign up?   \n",
       "2  Is there an FAQ for this Machine Learning course?   \n",
       "3  Does this course have a GitHub repository for ...   \n",
       "4  How can I structure my questions and answers f...   \n",
       "\n",
       "                      course  \n",
       "0  machine-learning-zoomcamp  \n",
       "1  machine-learning-zoomcamp  \n",
       "2  machine-learning-zoomcamp  \n",
       "3  machine-learning-zoomcamp  \n",
       "4  machine-learning-zoomcamp  "
      ]
     },
     "execution_count": 4,
     "metadata": {},
     "output_type": "execute_result"
    }
   ],
   "source": [
    "df.head(5)"
   ]
  },
  {
   "cell_type": "code",
   "execution_count": 10,
   "id": "17b3541f-6083-41a4-ba13-63bc92e43e34",
   "metadata": {},
   "outputs": [
    {
     "data": {
      "text/plain": [
       "answer_llm     300\n",
       "answer_orig    300\n",
       "document       300\n",
       "question       300\n",
       "course         300\n",
       "dtype: int64"
      ]
     },
     "execution_count": 10,
     "metadata": {},
     "output_type": "execute_result"
    }
   ],
   "source": [
    "df.count()"
   ]
  },
  {
   "cell_type": "markdown",
   "id": "292491b8-79b4-41f9-9953-64216fd8b92b",
   "metadata": {},
   "source": [
    "## Q1. Getting the embeddings model"
   ]
  },
  {
   "cell_type": "code",
   "execution_count": 5,
   "id": "e3885140-2630-4d11-8182-ab30b6e257c3",
   "metadata": {},
   "outputs": [
    {
     "name": "stderr",
     "output_type": "stream",
     "text": [
      "/home/codespace/miniconda3/lib/python3.10/site-packages/tqdm/auto.py:21: TqdmWarning: IProgress not found. Please update jupyter and ipywidgets. See https://ipywidgets.readthedocs.io/en/stable/user_install.html\n",
      "  from .autonotebook import tqdm as notebook_tqdm\n",
      "You try to use a model that was created with version 3.0.0.dev0, however, your version is 2.7.0. This might cause unexpected behavior or errors. In that case, try to update to the latest version.\n",
      "\n",
      "\n",
      "\n"
     ]
    }
   ],
   "source": [
    "from sentence_transformers import SentenceTransformer\n",
    "\n",
    "model_name = 'multi-qa-mpnet-base-dot-v1'\n",
    "embedding_model = SentenceTransformer(model_name)"
   ]
  },
  {
   "cell_type": "code",
   "execution_count": 6,
   "id": "e3ac1bce-94ae-4687-aecb-72e959de8c47",
   "metadata": {},
   "outputs": [],
   "source": [
    "# Create the embeddings for the first LLM answer:\n",
    "answer_llm = df.iloc[0].answer_llm"
   ]
  },
  {
   "cell_type": "code",
   "execution_count": 7,
   "id": "49dbca8f-1d89-48be-8a3f-351eb56850aa",
   "metadata": {},
   "outputs": [],
   "source": [
    "llm_answer_vector = embedding_model.encode(answer_llm)"
   ]
  },
  {
   "cell_type": "markdown",
   "id": "46cf220a-7794-45ec-bfe2-14849f379e45",
   "metadata": {},
   "source": [
    "### What's the first value of the resulting vector?"
   ]
  },
  {
   "cell_type": "code",
   "execution_count": 8,
   "id": "1b61931a-ac8e-43c6-90db-8f37d7ac16b0",
   "metadata": {},
   "outputs": [
    {
     "data": {
      "text/plain": [
       "-0.42244655"
      ]
     },
     "execution_count": 8,
     "metadata": {},
     "output_type": "execute_result"
    }
   ],
   "source": [
    "llm_answer_vector[0]"
   ]
  },
  {
   "cell_type": "markdown",
   "id": "fddba709-dd07-4d2b-889d-83357dcde0cf",
   "metadata": {},
   "source": [
    "## Q2. Computing the dot product\n",
    "Now for each answer pair, let's create embeddings and compute dot product between them\n",
    "\n",
    "We will put the results (scores) into the evaluations list"
   ]
  },
  {
   "cell_type": "code",
   "execution_count": 9,
   "id": "885088dd-0122-4147-ae9c-dd79f3f45f77",
   "metadata": {},
   "outputs": [],
   "source": [
    "from tqdm.auto import tqdm"
   ]
  },
  {
   "cell_type": "code",
   "execution_count": 10,
   "id": "974d0bbb-d9ff-4b69-904f-3304200aee5e",
   "metadata": {},
   "outputs": [],
   "source": [
    "def compute_similarity(record, normalized=False):\n",
    "    answer_orig = record['answer_orig']\n",
    "    answer_llm = record['answer_llm']\n",
    "    \n",
    "    v_llm = embedding_model.encode(answer_llm)\n",
    "    v_orig = embedding_model.encode(answer_orig)\n",
    "\n",
    "    if normalized:\n",
    "        v_llm_norm = normalize_vector(v_llm)\n",
    "        v_orig_norm = normalize_vector(v_orig)\n",
    "        return v_llm_norm.dot(v_orig_norm)\n",
    "    else:\n",
    "        return v_llm.dot(v_orig)"
   ]
  },
  {
   "cell_type": "code",
   "execution_count": 11,
   "id": "6fe0bbde-2c10-45b2-8b6e-e9bcf2acae3c",
   "metadata": {},
   "outputs": [
    {
     "name": "stderr",
     "output_type": "stream",
     "text": [
      "100%|██████████████████████████████████████████████████████████████████████████████████████████████████████████████| 300/300 [02:24<00:00,  2.08it/s]\n"
     ]
    }
   ],
   "source": [
    "evaluations = []\n",
    "\n",
    "results_df = df.to_dict(orient='records')\n",
    "\n",
    "for record in tqdm(results_df):\n",
    "    sim = compute_similarity(record)\n",
    "    evaluations.append(sim)"
   ]
  },
  {
   "cell_type": "code",
   "execution_count": 12,
   "id": "7343b295-75fe-4620-9f95-47513d1a1cbe",
   "metadata": {},
   "outputs": [
    {
     "data": {
      "text/plain": [
       "32.34471"
      ]
     },
     "execution_count": 12,
     "metadata": {},
     "output_type": "execute_result"
    }
   ],
   "source": [
    "evaluations[10]"
   ]
  },
  {
   "cell_type": "markdown",
   "id": "12d2482d-1615-4a46-a638-163f6ed8f744",
   "metadata": {},
   "source": [
    "### What's the 75% percentile of the score?"
   ]
  },
  {
   "cell_type": "code",
   "execution_count": 13,
   "id": "f1028ead-6a51-40cc-85ab-7989a4632647",
   "metadata": {},
   "outputs": [
    {
     "data": {
      "text/plain": [
       "count    300.000000\n",
       "mean      27.495996\n",
       "std        6.384742\n",
       "min        4.547924\n",
       "25%       24.307844\n",
       "50%       28.336870\n",
       "75%       31.674309\n",
       "max       39.476013\n",
       "Name: cosine, dtype: float64"
      ]
     },
     "execution_count": 13,
     "metadata": {},
     "output_type": "execute_result"
    }
   ],
   "source": [
    "df['cosine'] = evaluations\n",
    "df['cosine'].describe()"
   ]
  },
  {
   "cell_type": "markdown",
   "id": "853178a7-5bfb-4956-8623-47670e00bd0a",
   "metadata": {},
   "source": [
    "## Q3 Computing the cosine\n",
    "From Q2, we can see that the results are not within the [0, 1] range. It's because the vectors coming from this model are not normalized.\n",
    "\n",
    "So we need to normalize them.\n",
    "\n",
    "To do it, we\n",
    "\n",
    "Compute the norm of a vector\n",
    "Divide each element by this norm"
   ]
  },
  {
   "cell_type": "code",
   "execution_count": 14,
   "id": "664ea71b-23f4-462c-931a-1454c5942dac",
   "metadata": {},
   "outputs": [],
   "source": [
    "import numpy as np"
   ]
  },
  {
   "cell_type": "code",
   "execution_count": 15,
   "id": "8698c619-67c3-4ab7-bf50-a0ffd08732f9",
   "metadata": {},
   "outputs": [],
   "source": [
    "def normalize_vector(v):\n",
    "    norm = np.sqrt((v * v).sum())\n",
    "    v_norm = v / norm\n",
    "    return v_norm"
   ]
  },
  {
   "cell_type": "code",
   "execution_count": 16,
   "id": "2e3b5f81-7e03-441d-b652-3cbc368cd262",
   "metadata": {},
   "outputs": [
    {
     "name": "stderr",
     "output_type": "stream",
     "text": [
      "100%|██████████████████████████████████████████████████████████████████████████████████████████████████████████████| 300/300 [02:26<00:00,  2.05it/s]\n"
     ]
    }
   ],
   "source": [
    "evaluations_norm = []\n",
    "\n",
    "results_df = df.to_dict(orient='records')\n",
    "\n",
    "for record in tqdm(results_df):\n",
    "    sim = compute_similarity(record, True)\n",
    "    evaluations_norm.append(sim)"
   ]
  },
  {
   "cell_type": "markdown",
   "id": "8ed6a734-55cd-41c2-80b8-5c65a924dc65",
   "metadata": {},
   "source": [
    "### What's the 75% cosine in the scores?"
   ]
  },
  {
   "cell_type": "code",
   "execution_count": 17,
   "id": "cc94b009-3645-4932-99db-a0d9a0e86ae7",
   "metadata": {},
   "outputs": [
    {
     "data": {
      "text/plain": [
       "count    300.000000\n",
       "mean       0.728393\n",
       "std        0.157755\n",
       "min        0.125357\n",
       "25%        0.651273\n",
       "50%        0.763761\n",
       "75%        0.836235\n",
       "max        0.958796\n",
       "Name: cosine_norm, dtype: float64"
      ]
     },
     "execution_count": 17,
     "metadata": {},
     "output_type": "execute_result"
    }
   ],
   "source": [
    "df['cosine_norm'] = evaluations_norm\n",
    "df['cosine_norm'].describe()"
   ]
  },
  {
   "cell_type": "markdown",
   "id": "521bdc18-d7bf-49bc-867d-cb57f5665021",
   "metadata": {},
   "source": [
    "## Q4. Rouge\n",
    "Now we will explore an alternative metric - the ROUGE score.\n",
    "\n",
    "This is a set of metrics that compares two answers based on the overlap of n-grams, word sequences, and word pairs.\n",
    "\n",
    "It can give a more nuanced view of text similarity than just cosine similarity alone."
   ]
  },
  {
   "cell_type": "code",
   "execution_count": 18,
   "id": "9a817f7c-78e3-4e25-b46d-ecd08e3cb1da",
   "metadata": {},
   "outputs": [
    {
     "name": "stderr",
     "output_type": "stream",
     "text": [
      "huggingface/tokenizers: The current process just got forked, after parallelism has already been used. Disabling parallelism to avoid deadlocks...\n",
      "To disable this warning, you can either:\n",
      "\t- Avoid using `tokenizers` before the fork if possible\n",
      "\t- Explicitly set the environment variable TOKENIZERS_PARALLELISM=(true | false)\n"
     ]
    },
    {
     "name": "stdout",
     "output_type": "stream",
     "text": [
      "Collecting rouge\n",
      "  Downloading rouge-1.0.1-py3-none-any.whl.metadata (4.1 kB)\n",
      "Requirement already satisfied: six in /home/codespace/.local/lib/python3.10/site-packages (from rouge) (1.16.0)\n",
      "Downloading rouge-1.0.1-py3-none-any.whl (13 kB)\n",
      "Installing collected packages: rouge\n",
      "Successfully installed rouge-1.0.1\n",
      "Note: you may need to restart the kernel to use updated packages.\n"
     ]
    }
   ],
   "source": [
    "# pip install rouge"
   ]
  },
  {
   "cell_type": "markdown",
   "id": "292bb7ac-3d28-4955-a3c9-70a4618ede3d",
   "metadata": {},
   "source": [
    "Let's compute the ROUGE score between the answers at the index 10 of our dataframe (doc_id=5170565b)"
   ]
  },
  {
   "cell_type": "code",
   "execution_count": 24,
   "id": "ccc7a69c-feea-4f10-b711-90e3442892e8",
   "metadata": {},
   "outputs": [],
   "source": [
    "df_row10 = df.iloc[10]"
   ]
  },
  {
   "cell_type": "code",
   "execution_count": 27,
   "id": "05de0986-d2e9-43c6-b1f0-7b8f44a39f14",
   "metadata": {},
   "outputs": [],
   "source": [
    "from rouge import Rouge\n",
    "rouge_scorer = Rouge()\n",
    "\n",
    "scores = rouge_scorer.get_scores(df_row10['answer_llm'], df_row10['answer_orig'])[0]"
   ]
  },
  {
   "cell_type": "markdown",
   "id": "e40cdafd-0bd1-4a85-bedb-5d467b9a1e24",
   "metadata": {},
   "source": [
    "There are three scores: rouge-1, rouge-2 and rouge-l, and precision, recall and F1 score for each.\n",
    "\n",
    "rouge-1 - the overlap of unigrams,\n",
    "rouge-2 - bigrams,\n",
    "rouge-l - the longest common subsequence\n",
    "### What's the F score for rouge-1?"
   ]
  },
  {
   "cell_type": "code",
   "execution_count": 28,
   "id": "856ef611-7c5f-4371-9e8d-1bae42ee4279",
   "metadata": {},
   "outputs": [
    {
     "data": {
      "text/plain": [
       "{'rouge-1': {'r': 0.45454545454545453,\n",
       "  'p': 0.45454545454545453,\n",
       "  'f': 0.45454544954545456},\n",
       " 'rouge-2': {'r': 0.21621621621621623,\n",
       "  'p': 0.21621621621621623,\n",
       "  'f': 0.21621621121621637},\n",
       " 'rouge-l': {'r': 0.3939393939393939,\n",
       "  'p': 0.3939393939393939,\n",
       "  'f': 0.393939388939394}}"
      ]
     },
     "execution_count": 28,
     "metadata": {},
     "output_type": "execute_result"
    }
   ],
   "source": [
    "scores"
   ]
  },
  {
   "cell_type": "code",
   "execution_count": null,
   "id": "82426b80-862d-41ed-b93b-4bb56e2905bd",
   "metadata": {},
   "outputs": [],
   "source": []
  }
 ],
 "metadata": {
  "kernelspec": {
   "display_name": "Python 3 (ipykernel)",
   "language": "python",
   "name": "python3"
  },
  "language_info": {
   "codemirror_mode": {
    "name": "ipython",
    "version": 3
   },
   "file_extension": ".py",
   "mimetype": "text/x-python",
   "name": "python",
   "nbconvert_exporter": "python",
   "pygments_lexer": "ipython3",
   "version": "3.10.14"
  }
 },
 "nbformat": 4,
 "nbformat_minor": 5
}
