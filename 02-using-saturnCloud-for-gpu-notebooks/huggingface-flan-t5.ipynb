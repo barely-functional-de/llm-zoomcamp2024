{
 "cells": [
  {
   "cell_type": "code",
   "execution_count": 24,
   "id": "9c0a6604-fa7e-4028-b718-3e1c431145d9",
   "metadata": {
    "execution": {
     "iopub.execute_input": "2024-06-24T22:38:59.992854Z",
     "iopub.status.busy": "2024-06-24T22:38:59.992456Z",
     "iopub.status.idle": "2024-06-24T22:39:00.739599Z",
     "shell.execute_reply": "2024-06-24T22:39:00.738788Z",
     "shell.execute_reply.started": "2024-06-24T22:38:59.992829Z"
    },
    "tags": []
   },
   "outputs": [
    {
     "name": "stdout",
     "output_type": "stream",
     "text": [
      "--2024-06-24 22:39:00--  https://raw.githubusercontent.com/alexeygrigorev/minsearch/main/minsearch.py\n",
      "Resolving raw.githubusercontent.com (raw.githubusercontent.com)... 185.199.108.133, 185.199.111.133, 185.199.109.133, ...\n",
      "Connecting to raw.githubusercontent.com (raw.githubusercontent.com)|185.199.108.133|:443... connected.\n",
      "HTTP request sent, awaiting response... 200 OK\n",
      "Length: 3832 (3.7K) [text/plain]\n",
      "Saving to: ‘minsearch.py’\n",
      "\n",
      "minsearch.py        100%[===================>]   3.74K  --.-KB/s    in 0s      \n",
      "\n",
      "2024-06-24 22:39:00 (50.7 MB/s) - ‘minsearch.py’ saved [3832/3832]\n",
      "\n"
     ]
    }
   ],
   "source": [
    "!rm -f minsearch.py\n",
    "!wget https://raw.githubusercontent.com/alexeygrigorev/minsearch/main/minsearch.py"
   ]
  },
  {
   "cell_type": "code",
   "execution_count": 1,
   "id": "ab6c5ddc",
   "metadata": {
    "execution": {
     "iopub.execute_input": "2024-06-24T22:17:32.717159Z",
     "iopub.status.busy": "2024-06-24T22:17:32.716761Z",
     "iopub.status.idle": "2024-06-24T22:17:32.725855Z",
     "shell.execute_reply": "2024-06-24T22:17:32.725121Z",
     "shell.execute_reply.started": "2024-06-24T22:17:32.717132Z"
    },
    "tags": []
   },
   "outputs": [],
   "source": [
    "import os\n",
    "os.environ['HF_HOME'] = '/run/cache/'"
   ]
  },
  {
   "cell_type": "code",
   "execution_count": 25,
   "id": "6a74fe6a-9c8d-4ccf-89cf-39cd3f1ce4bb",
   "metadata": {
    "execution": {
     "iopub.execute_input": "2024-06-24T22:39:07.458954Z",
     "iopub.status.busy": "2024-06-24T22:39:07.458522Z",
     "iopub.status.idle": "2024-06-24T22:39:10.636874Z",
     "shell.execute_reply": "2024-06-24T22:39:10.636174Z",
     "shell.execute_reply.started": "2024-06-24T22:39:07.458928Z"
    },
    "tags": []
   },
   "outputs": [],
   "source": [
    "import requests \n",
    "import minsearch\n",
    "\n",
    "docs_url = 'https://github.com/DataTalksClub/llm-zoomcamp/blob/main/01-intro/documents.json?raw=1'\n",
    "docs_response = requests.get(docs_url)\n",
    "documents_raw = docs_response.json()\n",
    "\n",
    "documents = []\n",
    "\n",
    "for course in documents_raw:\n",
    "    course_name = course['course']\n",
    "\n",
    "    for doc in course['documents']:\n",
    "        doc['course'] = course_name\n",
    "        documents.append(doc)\n",
    "\n",
    "index = minsearch.Index(\n",
    "    text_fields=[\"question\", \"text\", \"section\"],\n",
    "    keyword_fields=[\"course\"]\n",
    ")\n",
    "\n",
    "index.fit(documents)"
   ]
  },
  {
   "cell_type": "code",
   "execution_count": 34,
   "id": "cf625992-d594-46fc-8443-cfa39cbcffb8",
   "metadata": {
    "execution": {
     "iopub.execute_input": "2024-06-24T22:40:14.892542Z",
     "iopub.status.busy": "2024-06-24T22:40:14.892104Z",
     "iopub.status.idle": "2024-06-24T22:40:14.897010Z",
     "shell.execute_reply": "2024-06-24T22:40:14.896075Z",
     "shell.execute_reply.started": "2024-06-24T22:40:14.892516Z"
    },
    "tags": []
   },
   "outputs": [],
   "source": [
    "def search(query):\n",
    "    boost = {'question': 3.0, 'section': 0.5}\n",
    "\n",
    "    results = index.search(\n",
    "        query=query,\n",
    "        filter_dict={'course': 'data-engineering-zoomcamp'},\n",
    "        boost_dict=boost,\n",
    "        num_results=5\n",
    "    )\n",
    "\n",
    "    return results"
   ]
  },
  {
   "cell_type": "code",
   "execution_count": 35,
   "id": "b5cfcbc3-d5ef-4cb5-82b2-faa80d19e0d2",
   "metadata": {
    "execution": {
     "iopub.execute_input": "2024-06-24T22:40:21.272742Z",
     "iopub.status.busy": "2024-06-24T22:40:21.272353Z",
     "iopub.status.idle": "2024-06-24T22:40:21.277345Z",
     "shell.execute_reply": "2024-06-24T22:40:21.276436Z",
     "shell.execute_reply.started": "2024-06-24T22:40:21.272717Z"
    },
    "tags": []
   },
   "outputs": [],
   "source": [
    "def build_prompt(query, search_results):\n",
    "    prompt_template = \"\"\"\n",
    "You're a course teaching assistant. Answer the QUESTION based on the CONTEXT from the FAQ database.\n",
    "Use only the facts from the CONTEXT when answering the QUESTION.\n",
    "\n",
    "QUESTION: {question}\n",
    "\n",
    "CONTEXT: \n",
    "{context}\n",
    "\"\"\".strip()\n",
    "\n",
    "    context = \"\"\n",
    "    \n",
    "    for doc in search_results:\n",
    "        context = context + f\"section: {doc['section']}\\nquestion: {doc['question']}\\nanswer: {doc['text']}\\n\\n\"\n",
    "    \n",
    "    prompt = prompt_template.format(question=query, context=context).strip()\n",
    "    return prompt"
   ]
  },
  {
   "cell_type": "code",
   "execution_count": 4,
   "id": "0e4ef565-6df3-4a31-9978-4ce1a9be706c",
   "metadata": {
    "execution": {
     "iopub.execute_input": "2024-06-24T22:26:01.003434Z",
     "iopub.status.busy": "2024-06-24T22:26:01.003037Z",
     "iopub.status.idle": "2024-06-24T22:26:06.849950Z",
     "shell.execute_reply": "2024-06-24T22:26:06.849306Z",
     "shell.execute_reply.started": "2024-06-24T22:26:01.003409Z"
    },
    "tags": []
   },
   "outputs": [],
   "source": [
    "from transformers import T5Tokenizer, T5ForConditionalGeneration"
   ]
  },
  {
   "cell_type": "code",
   "execution_count": 6,
   "id": "2bc39e7c-9155-437f-b1f4-1661ff921b6c",
   "metadata": {
    "execution": {
     "iopub.execute_input": "2024-06-24T22:29:57.287791Z",
     "iopub.status.busy": "2024-06-24T22:29:57.287381Z",
     "iopub.status.idle": "2024-06-24T22:32:19.581876Z",
     "shell.execute_reply": "2024-06-24T22:32:19.581273Z",
     "shell.execute_reply.started": "2024-06-24T22:29:57.287761Z"
    },
    "tags": []
   },
   "outputs": [
    {
     "data": {
      "application/vnd.jupyter.widget-view+json": {
       "model_id": "f6ba96965b6845cb985d11cccbce77c5",
       "version_major": 2,
       "version_minor": 0
      },
      "text/plain": [
       "tokenizer_config.json:   0%|          | 0.00/2.54k [00:00<?, ?B/s]"
      ]
     },
     "metadata": {},
     "output_type": "display_data"
    },
    {
     "data": {
      "application/vnd.jupyter.widget-view+json": {
       "model_id": "9c67e5f7b7d448058afd2b2951264917",
       "version_major": 2,
       "version_minor": 0
      },
      "text/plain": [
       "spiece.model:   0%|          | 0.00/792k [00:00<?, ?B/s]"
      ]
     },
     "metadata": {},
     "output_type": "display_data"
    },
    {
     "data": {
      "application/vnd.jupyter.widget-view+json": {
       "model_id": "86fb0d0f5ecc45939f4584401a43f172",
       "version_major": 2,
       "version_minor": 0
      },
      "text/plain": [
       "special_tokens_map.json:   0%|          | 0.00/2.20k [00:00<?, ?B/s]"
      ]
     },
     "metadata": {},
     "output_type": "display_data"
    },
    {
     "data": {
      "application/vnd.jupyter.widget-view+json": {
       "model_id": "6e63dee5e729428bb1300734dab1d75b",
       "version_major": 2,
       "version_minor": 0
      },
      "text/plain": [
       "tokenizer.json:   0%|          | 0.00/2.42M [00:00<?, ?B/s]"
      ]
     },
     "metadata": {},
     "output_type": "display_data"
    },
    {
     "name": "stderr",
     "output_type": "stream",
     "text": [
      "You are using the default legacy behaviour of the <class 'transformers.models.t5.tokenization_t5.T5Tokenizer'>. This is expected, and simply means that the `legacy` (previous) behavior will be used so nothing changes for you. If you want to use the new behaviour, set `legacy=False`. This should only be set if you understand what it means, and thoroughly read the reason why this was added as explained in https://github.com/huggingface/transformers/pull/24565\n",
      "Special tokens have been added in the vocabulary, make sure the associated word embeddings are fine-tuned or trained.\n"
     ]
    },
    {
     "data": {
      "application/vnd.jupyter.widget-view+json": {
       "model_id": "6c0d40b289ac484ca965b323477406de",
       "version_major": 2,
       "version_minor": 0
      },
      "text/plain": [
       "config.json:   0%|          | 0.00/1.44k [00:00<?, ?B/s]"
      ]
     },
     "metadata": {},
     "output_type": "display_data"
    },
    {
     "data": {
      "application/vnd.jupyter.widget-view+json": {
       "model_id": "1371a9af870348e495673594eb6f79d4",
       "version_major": 2,
       "version_minor": 0
      },
      "text/plain": [
       "model.safetensors.index.json:   0%|          | 0.00/53.0k [00:00<?, ?B/s]"
      ]
     },
     "metadata": {},
     "output_type": "display_data"
    },
    {
     "data": {
      "application/vnd.jupyter.widget-view+json": {
       "model_id": "16dc8a8f14ab44c3a0b969febe3968b4",
       "version_major": 2,
       "version_minor": 0
      },
      "text/plain": [
       "Downloading shards:   0%|          | 0/2 [00:00<?, ?it/s]"
      ]
     },
     "metadata": {},
     "output_type": "display_data"
    },
    {
     "data": {
      "application/vnd.jupyter.widget-view+json": {
       "model_id": "6dc0d65d073d4771a5d1884ff4924e98",
       "version_major": 2,
       "version_minor": 0
      },
      "text/plain": [
       "model-00001-of-00002.safetensors:   0%|          | 0.00/9.45G [00:00<?, ?B/s]"
      ]
     },
     "metadata": {},
     "output_type": "display_data"
    },
    {
     "data": {
      "application/vnd.jupyter.widget-view+json": {
       "model_id": "e35f5994095a40ecbca814ec5d039c01",
       "version_major": 2,
       "version_minor": 0
      },
      "text/plain": [
       "model-00002-of-00002.safetensors:   0%|          | 0.00/1.95G [00:00<?, ?B/s]"
      ]
     },
     "metadata": {},
     "output_type": "display_data"
    },
    {
     "data": {
      "application/vnd.jupyter.widget-view+json": {
       "model_id": "b96dfb02dc884081845bddbbc9391de6",
       "version_major": 2,
       "version_minor": 0
      },
      "text/plain": [
       "Loading checkpoint shards:   0%|          | 0/2 [00:00<?, ?it/s]"
      ]
     },
     "metadata": {},
     "output_type": "display_data"
    },
    {
     "data": {
      "application/vnd.jupyter.widget-view+json": {
       "model_id": "c81c9d48e3df44ccb3d8d3baabed042f",
       "version_major": 2,
       "version_minor": 0
      },
      "text/plain": [
       "generation_config.json:   0%|          | 0.00/147 [00:00<?, ?B/s]"
      ]
     },
     "metadata": {},
     "output_type": "display_data"
    }
   ],
   "source": [
    "tokenizer = T5Tokenizer.from_pretrained(\"google/flan-t5-xl\")\n",
    "model = T5ForConditionalGeneration.from_pretrained(\"google/flan-t5-xl\", device_map=\"auto\")"
   ]
  },
  {
   "cell_type": "code",
   "execution_count": 19,
   "id": "9f42e636-6d03-4134-81b3-89f18a9f8c2b",
   "metadata": {
    "execution": {
     "iopub.execute_input": "2024-06-24T22:35:12.780819Z",
     "iopub.status.busy": "2024-06-24T22:35:12.780287Z",
     "iopub.status.idle": "2024-06-24T22:35:13.003418Z",
     "shell.execute_reply": "2024-06-24T22:35:13.002809Z",
     "shell.execute_reply.started": "2024-06-24T22:35:12.780779Z"
    },
    "tags": []
   },
   "outputs": [],
   "source": [
    "input_text = \"translate English to German: How old are you?\"\n",
    "input_ids = tokenizer(input_text, return_tensors=\"pt\").input_ids.to(\"cuda\")\n",
    "outputs = model.generate(input_ids)\n",
    "result = tokenizer.decode(outputs[0])"
   ]
  },
  {
   "cell_type": "code",
   "execution_count": 20,
   "id": "a8e0d963-f5d0-40c7-bc39-4358ab2753f8",
   "metadata": {
    "execution": {
     "iopub.execute_input": "2024-06-24T22:35:16.531713Z",
     "iopub.status.busy": "2024-06-24T22:35:16.531333Z",
     "iopub.status.idle": "2024-06-24T22:35:16.536745Z",
     "shell.execute_reply": "2024-06-24T22:35:16.535910Z",
     "shell.execute_reply.started": "2024-06-24T22:35:16.531684Z"
    },
    "tags": []
   },
   "outputs": [
    {
     "data": {
      "text/plain": [
       "'<pad> Wie alt sind Sie?</s>'"
      ]
     },
     "execution_count": 20,
     "metadata": {},
     "output_type": "execute_result"
    }
   ],
   "source": [
    "result"
   ]
  },
  {
   "cell_type": "code",
   "execution_count": 39,
   "id": "baec2300-5f3c-4282-ac93-040118d346be",
   "metadata": {
    "execution": {
     "iopub.execute_input": "2024-06-24T22:49:07.237910Z",
     "iopub.status.busy": "2024-06-24T22:49:07.237510Z",
     "iopub.status.idle": "2024-06-24T22:49:07.243311Z",
     "shell.execute_reply": "2024-06-24T22:49:07.242491Z",
     "shell.execute_reply.started": "2024-06-24T22:49:07.237886Z"
    },
    "tags": []
   },
   "outputs": [],
   "source": [
    "def llm_hf(prompt, generate_params=None):\n",
    "    if generate_params is None:\n",
    "        generate_params = {}\n",
    "\n",
    "    input_ids = tokenizer(prompt, return_tensors=\"pt\").input_ids.to(\"cuda\")\n",
    "    outputs = model.generate(\n",
    "        input_ids,\n",
    "        max_length=generate_params.get(\"max_length\", 100),\n",
    "        num_beams=generate_params.get(\"num_beams\", 5),\n",
    "        do_sample=generate_params.get(\"do_sample\", False),\n",
    "        temperature=generate_params.get(\"temperature\", 1.0),\n",
    "        top_k=generate_params.get(\"top_k\", 50),\n",
    "        top_p=generate_params.get(\"top_p\", 0.95),\n",
    "    )\n",
    "    result = tokenizer.decode(outputs[0], skip_special_tokens=True)\n",
    "    return result"
   ]
  },
  {
   "cell_type": "code",
   "execution_count": 40,
   "id": "92ad7362-d387-4201-a4ae-6e6532e7cdf4",
   "metadata": {
    "execution": {
     "iopub.execute_input": "2024-06-24T22:49:10.849501Z",
     "iopub.status.busy": "2024-06-24T22:49:10.849102Z",
     "iopub.status.idle": "2024-06-24T22:49:10.853706Z",
     "shell.execute_reply": "2024-06-24T22:49:10.852767Z",
     "shell.execute_reply.started": "2024-06-24T22:49:10.849474Z"
    },
    "tags": []
   },
   "outputs": [],
   "source": [
    "def rag(query):\n",
    "    search_results = search(query)\n",
    "    prompt = build_prompt(query, search_results)\n",
    "    answer = llm_hf(prompt)\n",
    "    return answer"
   ]
  },
  {
   "cell_type": "code",
   "execution_count": 41,
   "id": "20679b52-d913-4711-8bad-96f1bc8066ee",
   "metadata": {
    "execution": {
     "iopub.execute_input": "2024-06-24T22:49:13.509587Z",
     "iopub.status.busy": "2024-06-24T22:49:13.509204Z",
     "iopub.status.idle": "2024-06-24T22:49:17.175247Z",
     "shell.execute_reply": "2024-06-24T22:49:17.174257Z",
     "shell.execute_reply.started": "2024-06-24T22:49:13.509560Z"
    },
    "tags": []
   },
   "outputs": [
    {
     "name": "stderr",
     "output_type": "stream",
     "text": [
      "/opt/saturncloud/envs/saturn/lib/python3.9/site-packages/transformers/generation/configuration_utils.py:520: UserWarning: `do_sample` is set to `False`. However, `top_p` is set to `0.95` -- this flag is only used in sample-based generation modes. You should set `do_sample=True` or unset `top_p`.\n",
      "  warnings.warn(\n"
     ]
    },
    {
     "data": {
      "text/plain": [
       "\"Yes, even if you don't register, you're still eligible to submit the homeworks. Be aware, however, that there will be deadlines for turning in the final projects. So don't leave everything for the last minute.\""
      ]
     },
     "execution_count": 41,
     "metadata": {},
     "output_type": "execute_result"
    }
   ],
   "source": [
    "rag('I just discovered the course. Can I still join it?')"
   ]
  },
  {
   "cell_type": "code",
   "execution_count": null,
   "id": "e7687deb-8990-4c97-ad50-f2004d0b317e",
   "metadata": {},
   "outputs": [],
   "source": []
  }
 ],
 "metadata": {
  "kernelspec": {
   "display_name": "saturn (Python 3)",
   "language": "python",
   "name": "python3"
  },
  "language_info": {
   "codemirror_mode": {
    "name": "ipython",
    "version": 3
   },
   "file_extension": ".py",
   "mimetype": "text/x-python",
   "name": "python",
   "nbconvert_exporter": "python",
   "pygments_lexer": "ipython3",
   "version": "3.9.18"
  }
 },
 "nbformat": 4,
 "nbformat_minor": 5
}
