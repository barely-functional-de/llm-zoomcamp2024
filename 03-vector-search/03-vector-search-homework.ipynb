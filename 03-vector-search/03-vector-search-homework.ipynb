{
 "cells": [
  {
   "cell_type": "code",
   "execution_count": 1,
   "id": "60ed5606-a1b7-4591-a925-41db8a62173a",
   "metadata": {},
   "outputs": [],
   "source": [
    "# pip install sentence_transformers==2.7.0"
   ]
  },
  {
   "cell_type": "code",
   "execution_count": 2,
   "id": "c4c98907-fdf6-4225-9f8d-b268267b3309",
   "metadata": {},
   "outputs": [
    {
     "name": "stderr",
     "output_type": "stream",
     "text": [
      "/home/codespace/miniconda3/lib/python3.10/site-packages/tqdm/auto.py:21: TqdmWarning: IProgress not found. Please update jupyter and ipywidgets. See https://ipywidgets.readthedocs.io/en/stable/user_install.html\n",
      "  from .autonotebook import tqdm as notebook_tqdm\n"
     ]
    }
   ],
   "source": [
    "from sentence_transformers import SentenceTransformer"
   ]
  },
  {
   "cell_type": "code",
   "execution_count": 3,
   "id": "e2ba148f-97d9-443c-a0d5-4582c84029c6",
   "metadata": {},
   "outputs": [],
   "source": [
    "model_name = 'multi-qa-distilbert-cos-v1'\n",
    "embedding_model = SentenceTransformer(model_name)"
   ]
  },
  {
   "cell_type": "markdown",
   "id": "7c28bbc2-b481-4b78-a527-b7538f5ba3f6",
   "metadata": {},
   "source": [
    "## Q1. Getting the embeddings model\n",
    "### What's the first value of the resulting vector?"
   ]
  },
  {
   "cell_type": "code",
   "execution_count": 4,
   "id": "5a89ae0c-28ad-4a0f-bec7-21d2d6c62cd7",
   "metadata": {},
   "outputs": [],
   "source": [
    "user_question = \"I just discovered the course. Can I still join it?\""
   ]
  },
  {
   "cell_type": "code",
   "execution_count": 6,
   "id": "76ce8b29-fc2f-442f-98f0-c4d80d0354dd",
   "metadata": {},
   "outputs": [],
   "source": [
    "v= embedding_model.encode(user_question)"
   ]
  },
  {
   "cell_type": "code",
   "execution_count": 7,
   "id": "5125ff5b-28a9-4a5e-a197-31a9caf65d5f",
   "metadata": {},
   "outputs": [
    {
     "data": {
      "text/plain": [
       "768"
      ]
     },
     "execution_count": 7,
     "metadata": {},
     "output_type": "execute_result"
    }
   ],
   "source": [
    "len(v)"
   ]
  },
  {
   "cell_type": "code",
   "execution_count": 8,
   "id": "65471537-d8dc-40fb-bfa9-6b597cbca791",
   "metadata": {},
   "outputs": [
    {
     "data": {
      "text/plain": [
       "0.078222655"
      ]
     },
     "execution_count": 8,
     "metadata": {},
     "output_type": "execute_result"
    }
   ],
   "source": [
    "v[0]"
   ]
  },
  {
   "cell_type": "markdown",
   "id": "5320b114-3109-46d0-aff2-1647e7c6b762",
   "metadata": {},
   "source": [
    "## Prepare the documents"
   ]
  },
  {
   "cell_type": "code",
   "execution_count": 10,
   "id": "7bf7ccfb-4867-46f7-9a35-6d598a83e4e5",
   "metadata": {},
   "outputs": [],
   "source": [
    "import requests \n",
    "\n",
    "base_url = 'https://github.com/DataTalksClub/llm-zoomcamp/blob/main'\n",
    "relative_url = '03-vector-search/eval/documents-with-ids.json'\n",
    "docs_url = f'{base_url}/{relative_url}?raw=1'\n",
    "docs_response = requests.get(docs_url)\n",
    "documents = docs_response.json()"
   ]
  },
  {
   "cell_type": "code",
   "execution_count": 17,
   "id": "f85fc900-5602-4ab0-9f32-16c84ab57b5d",
   "metadata": {},
   "outputs": [
    {
     "data": {
      "text/plain": [
       "{'text': \"The purpose of this document is to capture frequently asked technical questions\\nThe exact day and hour of the course will be 15th Jan 2024 at 17h00. The course will start with the first  “Office Hours'' live.1\\nSubscribe to course public Google Calendar (it works from Desktop only).\\nRegister before the course starts using this link.\\nJoin the course Telegram channel with announcements.\\nDon’t forget to register in DataTalks.Club's Slack and join the channel.\",\n",
       " 'section': 'General course-related questions',\n",
       " 'question': 'Course - When will the course start?',\n",
       " 'course': 'data-engineering-zoomcamp',\n",
       " 'id': 'c02e79ef'}"
      ]
     },
     "execution_count": 17,
     "metadata": {},
     "output_type": "execute_result"
    }
   ],
   "source": [
    "documents[0]"
   ]
  },
  {
   "cell_type": "code",
   "execution_count": 16,
   "id": "2b1f72b6-6f96-44f0-9f95-8e385a19cd24",
   "metadata": {},
   "outputs": [
    {
     "data": {
      "text/plain": [
       "948"
      ]
     },
     "execution_count": 16,
     "metadata": {},
     "output_type": "execute_result"
    }
   ],
   "source": [
    "len(documents)"
   ]
  },
  {
   "cell_type": "code",
   "execution_count": 14,
   "id": "745db6cd-05e4-44d5-81e9-0a7f5cf832c6",
   "metadata": {},
   "outputs": [],
   "source": [
    "# Desired course to filter\n",
    "desired_course = 'machine-learning-zoomcamp'\n",
    "\n",
    "# Filter documents\n",
    "filtered_documents = [doc for doc in documents if doc['course'] == desired_course]"
   ]
  },
  {
   "cell_type": "code",
   "execution_count": 15,
   "id": "2139df90-db95-49a7-b35d-23e98024ce30",
   "metadata": {},
   "outputs": [
    {
     "data": {
      "text/plain": [
       "375"
      ]
     },
     "execution_count": 15,
     "metadata": {},
     "output_type": "execute_result"
    }
   ],
   "source": [
    "len(filtered_documents)"
   ]
  },
  {
   "cell_type": "markdown",
   "id": "8fef1ab9-4482-4307-983c-992e960da09b",
   "metadata": {},
   "source": [
    "## Q2. Creating the embeddings\n",
    "###  What's the shape of X? (X.shape). Include the parantheses."
   ]
  },
  {
   "cell_type": "code",
   "execution_count": 18,
   "id": "d3ad4119-9528-4b9d-8aec-be6e3931ea55",
   "metadata": {},
   "outputs": [],
   "source": [
    "import numpy as np\n",
    "from tqdm.auto import tqdm"
   ]
  },
  {
   "cell_type": "code",
   "execution_count": 20,
   "id": "76316863-1e92-4848-9f20-a985d1cfc2fd",
   "metadata": {},
   "outputs": [
    {
     "name": "stderr",
     "output_type": "stream",
     "text": [
      "100%|████████████████████████████████████████████████████████████████████████████████████████████████████████████████████████████████████████████████| 375/375 [01:04<00:00,  5.84it/s]\n"
     ]
    }
   ],
   "source": [
    "embeddings = []\n",
    "\n",
    "for doc in tqdm(filtered_documents):\n",
    "    question = doc['question']\n",
    "    text = doc['text']\n",
    "    qa_text = f'{question} {text}'\n",
    "    embeddings.append(embedding_model.encode(qa_text))\n",
    "\n",
    "X = np.array(embeddings)"
   ]
  },
  {
   "cell_type": "code",
   "execution_count": 21,
   "id": "d36d02f3-b4f2-49fc-a445-d3b77329bcd5",
   "metadata": {},
   "outputs": [
    {
     "data": {
      "text/plain": [
       "(375, 768)"
      ]
     },
     "execution_count": 21,
     "metadata": {},
     "output_type": "execute_result"
    }
   ],
   "source": [
    "X.shape"
   ]
  },
  {
   "cell_type": "markdown",
   "id": "459b4e1a-9b77-45d3-88d0-742fecc21a18",
   "metadata": {},
   "source": [
    "## Q3. Search\n",
    "### What's the highest score in the results?"
   ]
  },
  {
   "cell_type": "code",
   "execution_count": 22,
   "id": "1552ef01-633c-4212-9b40-9dbe7a5af4ea",
   "metadata": {},
   "outputs": [],
   "source": [
    "scores = X.dot(v)"
   ]
  },
  {
   "cell_type": "code",
   "execution_count": 25,
   "id": "2bff1621-b46a-4b16-be66-c37f901fde49",
   "metadata": {},
   "outputs": [],
   "source": [
    "max_score = np.max(scores)"
   ]
  },
  {
   "cell_type": "code",
   "execution_count": 26,
   "id": "eeca40ea-0ad5-4772-84cf-6d55a44f8d8e",
   "metadata": {},
   "outputs": [
    {
     "data": {
      "text/plain": [
       "0.6506573"
      ]
     },
     "execution_count": 26,
     "metadata": {},
     "output_type": "execute_result"
    }
   ],
   "source": [
    "max_score"
   ]
  },
  {
   "cell_type": "code",
   "execution_count": null,
   "id": "5454aa7b-fba8-4a01-a534-010c2aaeb898",
   "metadata": {},
   "outputs": [],
   "source": []
  }
 ],
 "metadata": {
  "kernelspec": {
   "display_name": "Python 3 (ipykernel)",
   "language": "python",
   "name": "python3"
  },
  "language_info": {
   "codemirror_mode": {
    "name": "ipython",
    "version": 3
   },
   "file_extension": ".py",
   "mimetype": "text/x-python",
   "name": "python",
   "nbconvert_exporter": "python",
   "pygments_lexer": "ipython3",
   "version": "3.10.14"
  }
 },
 "nbformat": 4,
 "nbformat_minor": 5
}
