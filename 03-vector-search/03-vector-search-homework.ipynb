{
 "cells": [
  {
   "cell_type": "code",
   "execution_count": 1,
   "id": "60ed5606-a1b7-4591-a925-41db8a62173a",
   "metadata": {},
   "outputs": [],
   "source": [
    "# pip install sentence_transformers==2.7.0"
   ]
  },
  {
   "cell_type": "code",
   "execution_count": 2,
   "id": "c4c98907-fdf6-4225-9f8d-b268267b3309",
   "metadata": {},
   "outputs": [
    {
     "name": "stderr",
     "output_type": "stream",
     "text": [
      "/home/codespace/miniconda3/lib/python3.10/site-packages/tqdm/auto.py:21: TqdmWarning: IProgress not found. Please update jupyter and ipywidgets. See https://ipywidgets.readthedocs.io/en/stable/user_install.html\n",
      "  from .autonotebook import tqdm as notebook_tqdm\n"
     ]
    }
   ],
   "source": [
    "from sentence_transformers import SentenceTransformer"
   ]
  },
  {
   "cell_type": "code",
   "execution_count": 3,
   "id": "e2ba148f-97d9-443c-a0d5-4582c84029c6",
   "metadata": {},
   "outputs": [],
   "source": [
    "model_name = 'multi-qa-distilbert-cos-v1'\n",
    "embedding_model = SentenceTransformer(model_name)"
   ]
  },
  {
   "cell_type": "markdown",
   "id": "7c28bbc2-b481-4b78-a527-b7538f5ba3f6",
   "metadata": {},
   "source": [
    "## Q1. Getting the embeddings model\n",
    "### What's the first value of the resulting vector?"
   ]
  },
  {
   "cell_type": "code",
   "execution_count": 4,
   "id": "5a89ae0c-28ad-4a0f-bec7-21d2d6c62cd7",
   "metadata": {},
   "outputs": [],
   "source": [
    "user_question = \"I just discovered the course. Can I still join it?\""
   ]
  },
  {
   "cell_type": "code",
   "execution_count": 6,
   "id": "76ce8b29-fc2f-442f-98f0-c4d80d0354dd",
   "metadata": {},
   "outputs": [],
   "source": [
    "v= embedding_model.encode(user_question)"
   ]
  },
  {
   "cell_type": "code",
   "execution_count": 7,
   "id": "5125ff5b-28a9-4a5e-a197-31a9caf65d5f",
   "metadata": {},
   "outputs": [
    {
     "data": {
      "text/plain": [
       "768"
      ]
     },
     "execution_count": 7,
     "metadata": {},
     "output_type": "execute_result"
    }
   ],
   "source": [
    "len(v)"
   ]
  },
  {
   "cell_type": "code",
   "execution_count": 8,
   "id": "65471537-d8dc-40fb-bfa9-6b597cbca791",
   "metadata": {},
   "outputs": [
    {
     "data": {
      "text/plain": [
       "0.078222655"
      ]
     },
     "execution_count": 8,
     "metadata": {},
     "output_type": "execute_result"
    }
   ],
   "source": [
    "v[0]"
   ]
  },
  {
   "cell_type": "markdown",
   "id": "5320b114-3109-46d0-aff2-1647e7c6b762",
   "metadata": {},
   "source": [
    "## Prepare the documents"
   ]
  },
  {
   "cell_type": "code",
   "execution_count": 10,
   "id": "7bf7ccfb-4867-46f7-9a35-6d598a83e4e5",
   "metadata": {},
   "outputs": [],
   "source": [
    "import requests \n",
    "\n",
    "base_url = 'https://github.com/DataTalksClub/llm-zoomcamp/blob/main'\n",
    "relative_url = '03-vector-search/eval/documents-with-ids.json'\n",
    "docs_url = f'{base_url}/{relative_url}?raw=1'\n",
    "docs_response = requests.get(docs_url)\n",
    "documents = docs_response.json()"
   ]
  },
  {
   "cell_type": "code",
   "execution_count": 17,
   "id": "f85fc900-5602-4ab0-9f32-16c84ab57b5d",
   "metadata": {},
   "outputs": [
    {
     "data": {
      "text/plain": [
       "{'text': \"The purpose of this document is to capture frequently asked technical questions\\nThe exact day and hour of the course will be 15th Jan 2024 at 17h00. The course will start with the first  “Office Hours'' live.1\\nSubscribe to course public Google Calendar (it works from Desktop only).\\nRegister before the course starts using this link.\\nJoin the course Telegram channel with announcements.\\nDon’t forget to register in DataTalks.Club's Slack and join the channel.\",\n",
       " 'section': 'General course-related questions',\n",
       " 'question': 'Course - When will the course start?',\n",
       " 'course': 'data-engineering-zoomcamp',\n",
       " 'id': 'c02e79ef'}"
      ]
     },
     "execution_count": 17,
     "metadata": {},
     "output_type": "execute_result"
    }
   ],
   "source": [
    "documents[0]"
   ]
  },
  {
   "cell_type": "code",
   "execution_count": 16,
   "id": "2b1f72b6-6f96-44f0-9f95-8e385a19cd24",
   "metadata": {},
   "outputs": [
    {
     "data": {
      "text/plain": [
       "948"
      ]
     },
     "execution_count": 16,
     "metadata": {},
     "output_type": "execute_result"
    }
   ],
   "source": [
    "len(documents)"
   ]
  },
  {
   "cell_type": "code",
   "execution_count": 14,
   "id": "745db6cd-05e4-44d5-81e9-0a7f5cf832c6",
   "metadata": {},
   "outputs": [],
   "source": [
    "# Desired course to filter\n",
    "desired_course = 'machine-learning-zoomcamp'\n",
    "\n",
    "# Filter documents\n",
    "filtered_documents = [doc for doc in documents if doc['course'] == desired_course]"
   ]
  },
  {
   "cell_type": "code",
   "execution_count": 15,
   "id": "2139df90-db95-49a7-b35d-23e98024ce30",
   "metadata": {},
   "outputs": [
    {
     "data": {
      "text/plain": [
       "375"
      ]
     },
     "execution_count": 15,
     "metadata": {},
     "output_type": "execute_result"
    }
   ],
   "source": [
    "len(filtered_documents)"
   ]
  },
  {
   "cell_type": "markdown",
   "id": "8fef1ab9-4482-4307-983c-992e960da09b",
   "metadata": {},
   "source": [
    "## Q2. Creating the embeddings\n",
    "###  What's the shape of X? (X.shape). Include the parantheses."
   ]
  },
  {
   "cell_type": "code",
   "execution_count": 18,
   "id": "d3ad4119-9528-4b9d-8aec-be6e3931ea55",
   "metadata": {},
   "outputs": [],
   "source": [
    "import numpy as np\n",
    "from tqdm.auto import tqdm"
   ]
  },
  {
   "cell_type": "code",
   "execution_count": 20,
   "id": "76316863-1e92-4848-9f20-a985d1cfc2fd",
   "metadata": {},
   "outputs": [
    {
     "name": "stderr",
     "output_type": "stream",
     "text": [
      "100%|████████████████████████████████████████████████████████████████████████████████████████████████████████████████████████████████████████████████| 375/375 [01:04<00:00,  5.84it/s]\n"
     ]
    }
   ],
   "source": [
    "embeddings = []\n",
    "\n",
    "for doc in tqdm(filtered_documents):\n",
    "    question = doc['question']\n",
    "    text = doc['text']\n",
    "    qa_text = f'{question} {text}'\n",
    "    embeddings.append(embedding_model.encode(qa_text))\n",
    "\n",
    "X = np.array(embeddings)"
   ]
  },
  {
   "cell_type": "code",
   "execution_count": 21,
   "id": "d36d02f3-b4f2-49fc-a445-d3b77329bcd5",
   "metadata": {},
   "outputs": [
    {
     "data": {
      "text/plain": [
       "(375, 768)"
      ]
     },
     "execution_count": 21,
     "metadata": {},
     "output_type": "execute_result"
    }
   ],
   "source": [
    "X.shape"
   ]
  },
  {
   "cell_type": "markdown",
   "id": "459b4e1a-9b77-45d3-88d0-742fecc21a18",
   "metadata": {},
   "source": [
    "## Q3. Search\n",
    "### What's the highest score in the results?"
   ]
  },
  {
   "cell_type": "code",
   "execution_count": 22,
   "id": "1552ef01-633c-4212-9b40-9dbe7a5af4ea",
   "metadata": {},
   "outputs": [],
   "source": [
    "scores = X.dot(v)"
   ]
  },
  {
   "cell_type": "code",
   "execution_count": 25,
   "id": "2bff1621-b46a-4b16-be66-c37f901fde49",
   "metadata": {},
   "outputs": [],
   "source": [
    "max_score = np.max(scores)"
   ]
  },
  {
   "cell_type": "code",
   "execution_count": 26,
   "id": "eeca40ea-0ad5-4772-84cf-6d55a44f8d8e",
   "metadata": {},
   "outputs": [
    {
     "data": {
      "text/plain": [
       "0.6506573"
      ]
     },
     "execution_count": 26,
     "metadata": {},
     "output_type": "execute_result"
    }
   ],
   "source": [
    "max_score"
   ]
  },
  {
   "cell_type": "markdown",
   "id": "c02dd92a-d8d3-4fb9-a862-05df281abce5",
   "metadata": {},
   "source": [
    "### Vector search\n",
    "### We can now compute the similarity between a query vector and all the embeddings.\n",
    "\n",
    "### Let's use this to implement our own vector search"
   ]
  },
  {
   "cell_type": "code",
   "execution_count": 27,
   "id": "6fcf50a6-2c6b-4e00-99e3-5786a9545858",
   "metadata": {},
   "outputs": [
    {
     "data": {
      "text/plain": [
       "[{'text': 'Yes, you can. You won’t be able to submit some of the homeworks, but you can still take part in the course.\\nIn order to get a certificate, you need to submit 2 out of 3 course projects and review 3 peers’ Projects by the deadline. It means that if you join the course at the end of November and manage to work on two projects, you will still be eligible for a certificate.',\n",
       "  'section': 'General course-related questions',\n",
       "  'question': 'The course has already started. Can I still join it?',\n",
       "  'course': 'machine-learning-zoomcamp',\n",
       "  'id': 'ee58a693'},\n",
       " {'text': 'Welcome to the course! Go to the course page (http://mlzoomcamp.com/), scroll down and start going through the course materials. Then read everything in the cohort folder for your cohort’s year.\\nClick on the links and start watching the videos. Also watch office hours from previous cohorts. Go to DTC youtube channel and click on Playlists and search for {course yyyy}. ML Zoomcamp was first launched in 2021.\\nOr you can just use this link: http://mlzoomcamp.com/#syllabus',\n",
       "  'section': 'General course-related questions',\n",
       "  'question': 'I just joined. What should I do next? How can I access course materials?',\n",
       "  'course': 'machine-learning-zoomcamp',\n",
       "  'id': '0a278fb2'},\n",
       " {'text': \"The process is automated now, so you should receive the email eventually. If you haven’t, check your promotions tab in Gmail as well as spam.\\nIf you unsubscribed from our newsletter, you won't get course related updates too.\\nBut don't worry, it’s not a problem. To make sure you don’t miss anything, join the #course-ml-zoomcamp channel in Slack and our telegram channel with announcements. This is enough to follow the course.\",\n",
       "  'section': 'General course-related questions',\n",
       "  'question': \"I filled the form, but haven't received a confirmation email. Is it normal?\",\n",
       "  'course': 'machine-learning-zoomcamp',\n",
       "  'id': '6ba259b1'},\n",
       " {'text': 'Technically, yes. Advisable? Not really. Reasons:\\nSome homework(s) asks for specific python library versions.\\nAnswers may not match in MCQ options if using different languages other than Python 3.10 (the recommended version for 2023 cohort)\\nAnd as for midterms/capstones, your peer-reviewers may not know these other languages. Do you want to be penalized for others not knowing these other languages?\\nYou can create a separate repo using course’s lessons but written in other languages for your own learnings, but not advisable for submissions.\\ntx[source]',\n",
       "  'section': 'Miscellaneous',\n",
       "  'question': 'Can I do the course in other languages, like R or Scala?',\n",
       "  'course': 'machine-learning-zoomcamp',\n",
       "  'id': '9f261648'},\n",
       " {'text': 'We won’t re-record the course videos. The focus of the course and the skills we want to teach remained the same, and the videos are still up-to-date.\\nIf you haven’t taken part in the previous iteration, you can start watching the videos. It’ll be useful for you and you will learn new things. However, we recommend using Python 3.10 now instead of Python 3.8.',\n",
       "  'section': 'General course-related questions',\n",
       "  'question': 'The course videos are from the previous iteration. Will you release new ones or we’ll use the videos from 2021?',\n",
       "  'course': 'machine-learning-zoomcamp',\n",
       "  'id': 'e7ba6b8a'}]"
      ]
     },
     "execution_count": 27,
     "metadata": {},
     "output_type": "execute_result"
    }
   ],
   "source": [
    "class VectorSearchEngine():\n",
    "    def __init__(self, documents, embeddings):\n",
    "        self.documents = documents\n",
    "        self.embeddings = embeddings\n",
    "\n",
    "    def search(self, v_query, num_results=10):\n",
    "        scores = self.embeddings.dot(v_query)\n",
    "        idx = np.argsort(-scores)[:num_results]\n",
    "        return [self.documents[i] for i in idx]\n",
    "\n",
    "search_engine = VectorSearchEngine(documents=filtered_documents, embeddings=X)\n",
    "search_engine.search(v, num_results=5)"
   ]
  },
  {
   "cell_type": "markdown",
   "id": "55e02bb5-2ea4-4679-af19-6b605d72d120",
   "metadata": {},
   "source": [
    "## Q4. Hit-rate for our search engine\n",
    "### Let's evaluate the performance of our own search engine. We will use the hitrate metric for evaluation.\n",
    "### First, load the ground truth dataset:"
   ]
  },
  {
   "cell_type": "code",
   "execution_count": 28,
   "id": "6252237c-e9c3-4358-8e6f-1d88a8bafa2e",
   "metadata": {},
   "outputs": [],
   "source": [
    "import pandas as pd\n",
    "\n",
    "base_url = 'https://github.com/DataTalksClub/llm-zoomcamp/blob/main'\n",
    "relative_url = '03-vector-search/eval/ground-truth-data.csv'\n",
    "ground_truth_url = f'{base_url}/{relative_url}?raw=1'\n",
    "\n",
    "df_ground_truth = pd.read_csv(ground_truth_url)\n",
    "df_ground_truth = df_ground_truth[df_ground_truth.course == 'machine-learning-zoomcamp']\n",
    "ground_truth = df_ground_truth.to_dict(orient='records')"
   ]
  },
  {
   "cell_type": "code",
   "execution_count": 29,
   "id": "27373634-b87a-4fd1-ad86-4583bba14f39",
   "metadata": {},
   "outputs": [
    {
     "data": {
      "text/plain": [
       "{'question': 'Where can I sign up for the course?',\n",
       " 'course': 'machine-learning-zoomcamp',\n",
       " 'document': '0227b872'}"
      ]
     },
     "execution_count": 29,
     "metadata": {},
     "output_type": "execute_result"
    }
   ],
   "source": [
    "ground_truth[0]"
   ]
  },
  {
   "cell_type": "code",
   "execution_count": 30,
   "id": "549e8a10-d9cc-4a18-a2ae-245d6f3e8e30",
   "metadata": {},
   "outputs": [],
   "source": [
    "def hit_rate(relevance_total):\n",
    "    cnt = 0\n",
    "\n",
    "    for line in relevance_total:\n",
    "        if True in line:\n",
    "            cnt = cnt + 1\n",
    "\n",
    "    return cnt / len(relevance_total)"
   ]
  },
  {
   "cell_type": "code",
   "execution_count": 32,
   "id": "023e4c8e-d5d0-417b-93d4-6998516dacc0",
   "metadata": {},
   "outputs": [],
   "source": [
    "def evaluate(ground_truth, search_function):\n",
    "    relevance_total = []\n",
    "\n",
    "    for q in tqdm(ground_truth):\n",
    "        doc_id = q['document']\n",
    "        v = embedding_model.encode(q['question'])\n",
    "        results = search_function(v, num_results=5)   \n",
    "        relevance = [d['id'] == doc_id for d in results]\n",
    "        relevance_total.append(relevance)\n",
    "\n",
    "    return {\n",
    "        'hit_rate': hit_rate(relevance_total),\n",
    "        # 'mrr': mrr(relevance_total),\n",
    "    }"
   ]
  },
  {
   "cell_type": "markdown",
   "id": "fcaec3ba-6182-44d4-ab39-0dd054a8a450",
   "metadata": {},
   "source": [
    "### Use the code from the module to calculate the hitrate of VectorSearchEngine with num_results=5. What did you get?"
   ]
  },
  {
   "cell_type": "code",
   "execution_count": 33,
   "id": "d7201463-78ee-4b2c-b635-36e1c44f2552",
   "metadata": {},
   "outputs": [
    {
     "name": "stderr",
     "output_type": "stream",
     "text": [
      "100%|██████████████████████████████████████████████████████████████████████████████████████████████████████████████████████████████████████████████| 1830/1830 [01:27<00:00, 20.83it/s]\n"
     ]
    },
    {
     "data": {
      "text/plain": [
       "{'hit_rate': 0.9398907103825137}"
      ]
     },
     "execution_count": 33,
     "metadata": {},
     "output_type": "execute_result"
    }
   ],
   "source": [
    "evaluate(ground_truth, search_engine.search)"
   ]
  },
  {
   "cell_type": "code",
   "execution_count": null,
   "id": "bbbd0700-9695-4d37-ba18-40be11085686",
   "metadata": {},
   "outputs": [],
   "source": []
  }
 ],
 "metadata": {
  "kernelspec": {
   "display_name": "Python 3 (ipykernel)",
   "language": "python",
   "name": "python3"
  },
  "language_info": {
   "codemirror_mode": {
    "name": "ipython",
    "version": 3
   },
   "file_extension": ".py",
   "mimetype": "text/x-python",
   "name": "python",
   "nbconvert_exporter": "python",
   "pygments_lexer": "ipython3",
   "version": "3.10.14"
  }
 },
 "nbformat": 4,
 "nbformat_minor": 5
}
